{
 "cells": [
  {
   "cell_type": "markdown",
   "metadata": {},
   "source": [
    "## Exploratory Data Analysis for Play Store and App Store apps"
   ]
  },
  {
   "cell_type": "markdown",
   "metadata": {},
   "source": [
    "Play Store and App Store has about millions of applications which are downloaded by billions across the world. Data about these applications can help has better understand what people love most and spend their time on; what are the daily needs of the people; where are they inclining their habits etc. They not only make better products but also better ideas for products."
   ]
  },
  {
   "cell_type": "markdown",
   "metadata": {},
   "source": [
    "This notebook is focussed on data cleaning and exploring using python:"
   ]
  },
  {
   "cell_type": "markdown",
   "metadata": {
    "collapsed": true
   },
   "source": [
    "#### Pretty print datarows"
   ]
  },
  {
   "cell_type": "code",
   "execution_count": 1,
   "metadata": {},
   "outputs": [],
   "source": [
    "def explore_data(dataset, start, end, rows_and_columns=False):\n",
    "    dataset_slice = dataset[start:end]    \n",
    "    for row in dataset_slice:\n",
    "        print(row)\n",
    "        print('\\n') # adds a new (empty) line after each row\n",
    "\n",
    "    if rows_and_columns:\n",
    "        print('Number of rows:', len(dataset))\n",
    "        print('Number of columns:', len(dataset[0]))"
   ]
  },
  {
   "cell_type": "code",
   "execution_count": 2,
   "metadata": {},
   "outputs": [],
   "source": [
    "from csv import reader"
   ]
  },
  {
   "cell_type": "code",
   "execution_count": 3,
   "metadata": {},
   "outputs": [],
   "source": [
    "apps_data = list(reader(open('AppleStore.csv')))\n",
    "plays_data = list(reader(open('googleplaystore.csv')))"
   ]
  },
  {
   "cell_type": "markdown",
   "metadata": {},
   "source": [
    "#### Apple store Information provided in the dataset"
   ]
  },
  {
   "cell_type": "code",
   "execution_count": 4,
   "metadata": {},
   "outputs": [
    {
     "data": {
      "text/plain": [
       "['id',\n",
       " 'track_name',\n",
       " 'size_bytes',\n",
       " 'currency',\n",
       " 'price',\n",
       " 'rating_count_tot',\n",
       " 'rating_count_ver',\n",
       " 'user_rating',\n",
       " 'user_rating_ver',\n",
       " 'ver',\n",
       " 'cont_rating',\n",
       " 'prime_genre',\n",
       " 'sup_devices.num',\n",
       " 'ipadSc_urls.num',\n",
       " 'lang.num',\n",
       " 'vpp_lic']"
      ]
     },
     "execution_count": 4,
     "metadata": {},
     "output_type": "execute_result"
    }
   ],
   "source": [
    "apps_data[0]"
   ]
  },
  {
   "cell_type": "markdown",
   "metadata": {},
   "source": [
    "#### Google Play  store Information provided in the dataset"
   ]
  },
  {
   "cell_type": "code",
   "execution_count": 5,
   "metadata": {},
   "outputs": [
    {
     "data": {
      "text/plain": [
       "['App',\n",
       " 'Category',\n",
       " 'Rating',\n",
       " 'Reviews',\n",
       " 'Size',\n",
       " 'Installs',\n",
       " 'Type',\n",
       " 'Price',\n",
       " 'Content Rating',\n",
       " 'Genres',\n",
       " 'Last Updated',\n",
       " 'Current Ver',\n",
       " 'Android Ver']"
      ]
     },
     "execution_count": 5,
     "metadata": {},
     "output_type": "execute_result"
    }
   ],
   "source": [
    "plays_data[0]"
   ]
  },
  {
   "cell_type": "code",
   "execution_count": 6,
   "metadata": {},
   "outputs": [
    {
     "name": "stdout",
     "output_type": "stream",
     "text": [
      "['284882215', 'Facebook', '389879808', 'USD', '0.0', '2974676', '212', '3.5', '3.5', '95.0', '4+', 'Social Networking', '37', '1', '29', '1']\n",
      "\n",
      "\n",
      "['389801252', 'Instagram', '113954816', 'USD', '0.0', '2161558', '1289', '4.5', '4.0', '10.23', '12+', 'Photo & Video', '37', '0', '29', '1']\n",
      "\n",
      "\n",
      "['529479190', 'Clash of Clans', '116476928', 'USD', '0.0', '2130805', '579', '4.5', '4.5', '9.24.12', '9+', 'Games', '38', '5', '18', '1']\n",
      "\n",
      "\n",
      "['420009108', 'Temple Run', '65921024', 'USD', '0.0', '1724546', '3842', '4.5', '4.0', '1.6.2', '9+', 'Games', '40', '5', '1', '1']\n",
      "\n",
      "\n",
      "Number of rows: 7198\n",
      "Number of columns: 16\n"
     ]
    }
   ],
   "source": [
    "explore_data(apps_data,1,5,True)"
   ]
  },
  {
   "cell_type": "code",
   "execution_count": 7,
   "metadata": {},
   "outputs": [
    {
     "name": "stdout",
     "output_type": "stream",
     "text": [
      "['Photo Editor & Candy Camera & Grid & ScrapBook', 'ART_AND_DESIGN', '4.1', '159', '19M', '10,000+', 'Free', '0', 'Everyone', 'Art & Design', 'January 7, 2018', '1.0.0', '4.0.3 and up']\n",
      "\n",
      "\n",
      "['Coloring book moana', 'ART_AND_DESIGN', '3.9', '967', '14M', '500,000+', 'Free', '0', 'Everyone', 'Art & Design;Pretend Play', 'January 15, 2018', '2.0.0', '4.0.3 and up']\n",
      "\n",
      "\n",
      "['U Launcher Lite – FREE Live Cool Themes, Hide Apps', 'ART_AND_DESIGN', '4.7', '87510', '8.7M', '5,000,000+', 'Free', '0', 'Everyone', 'Art & Design', 'August 1, 2018', '1.2.4', '4.0.3 and up']\n",
      "\n",
      "\n",
      "['Sketch - Draw & Paint', 'ART_AND_DESIGN', '4.5', '215644', '25M', '50,000,000+', 'Free', '0', 'Teen', 'Art & Design', 'June 8, 2018', 'Varies with device', '4.2 and up']\n",
      "\n",
      "\n",
      "Number of rows: 10842\n",
      "Number of columns: 13\n"
     ]
    }
   ],
   "source": [
    "explore_data(plays_data,1,5,True)"
   ]
  },
  {
   "cell_type": "code",
   "execution_count": 8,
   "metadata": {},
   "outputs": [
    {
     "name": "stdout",
     "output_type": "stream",
     "text": [
      "['Life Made WI-Fi Touchscreen Photo Frame', '1.9', '19', '3.0M', '1,000+', 'Free', '0', 'Everyone', '', 'February 11, 2018', '1.0.19', '4.0 and up']\n",
      "\n",
      "\n"
     ]
    }
   ],
   "source": [
    "explore_data(plays_data,10473,10474,False)"
   ]
  },
  {
   "cell_type": "markdown",
   "metadata": {},
   "source": [
    "#### Removing anomlies"
   ]
  },
  {
   "cell_type": "code",
   "execution_count": 9,
   "metadata": {},
   "outputs": [],
   "source": [
    "if len(plays_data[10473]) != len(plays_data[0]):\n",
    "    del plays_data[10473]"
   ]
  },
  {
   "cell_type": "markdown",
   "metadata": {},
   "source": [
    "#### Duplicate Apps registered on Play Store"
   ]
  },
  {
   "cell_type": "code",
   "execution_count": 10,
   "metadata": {},
   "outputs": [],
   "source": [
    "duplicate_apps = []\n",
    "unique_apps = []\n",
    "\n",
    "for app in plays_data[1:]:\n",
    "    name = app[0]\n",
    "    if name in unique_apps:\n",
    "        if name not in duplicate_apps:\n",
    "            duplicate_apps.append(name)\n",
    "    else:\n",
    "        unique_apps.append(name) "
   ]
  },
  {
   "cell_type": "code",
   "execution_count": 11,
   "metadata": {},
   "outputs": [
    {
     "data": {
      "text/plain": [
       "798"
      ]
     },
     "execution_count": 11,
     "metadata": {},
     "output_type": "execute_result"
    }
   ],
   "source": [
    "len(duplicate_apps)"
   ]
  },
  {
   "cell_type": "markdown",
   "metadata": {},
   "source": [
    "#### Sample rows with Duplicate App\n",
    "It seems to be there are duplicate rows present in the data which needs to be removed as it may add bias in our model"
   ]
  },
  {
   "cell_type": "code",
   "execution_count": 12,
   "metadata": {},
   "outputs": [
    {
     "name": "stdout",
     "output_type": "stream",
     "text": [
      "['Quick PDF Scanner + OCR FREE', 'BUSINESS', '4.2', '80805', 'Varies with device', '5,000,000+', 'Free', '0', 'Everyone', 'Business', 'February 26, 2018', 'Varies with device', '4.0.3 and up']\n",
      "['Quick PDF Scanner + OCR FREE', 'BUSINESS', '4.2', '80805', 'Varies with device', '5,000,000+', 'Free', '0', 'Everyone', 'Business', 'February 26, 2018', 'Varies with device', '4.0.3 and up']\n",
      "['Quick PDF Scanner + OCR FREE', 'BUSINESS', '4.2', '80804', 'Varies with device', '5,000,000+', 'Free', '0', 'Everyone', 'Business', 'February 26, 2018', 'Varies with device', '4.0.3 and up']\n"
     ]
    }
   ],
   "source": [
    "for app in plays_data[1:]:\n",
    "    if app[0] == duplicate_apps[0]:\n",
    "        print(app)"
   ]
  },
  {
   "cell_type": "code",
   "execution_count": 13,
   "metadata": {},
   "outputs": [],
   "source": [
    "# Max Reviews for unique app name\n",
    "reviews_max = {}\n",
    "for app in plays_data[1:]:\n",
    "    name = app[0]\n",
    "    n_reviews = float(app[3])\n",
    "    if name in reviews_max:\n",
    "        reviews_max[name] = max(reviews_max[name],n_reviews)\n",
    "    else:\n",
    "        reviews_max[name] = n_reviews"
   ]
  },
  {
   "cell_type": "markdown",
   "metadata": {},
   "source": [
    "#### Removing Duplicate app \n",
    "Duplicate apps are removed and the rows with maximum reviews are kept in the record"
   ]
  },
  {
   "cell_type": "code",
   "execution_count": 14,
   "metadata": {},
   "outputs": [],
   "source": [
    "android_clean = []\n",
    "already_added = []\n",
    "android_clean.append(plays_data[0])\n",
    "for app in plays_data[1:]:\n",
    "    name = app[0]\n",
    "    n_review = float(app[3])\n",
    "    if n_review == reviews_max[name] and name not in already_added:\n",
    "        android_clean.append(app)\n",
    "        already_added.append(name)"
   ]
  },
  {
   "cell_type": "code",
   "execution_count": 15,
   "metadata": {},
   "outputs": [
    {
     "data": {
      "text/plain": [
       "9660"
      ]
     },
     "execution_count": 15,
     "metadata": {},
     "output_type": "execute_result"
    }
   ],
   "source": [
    "len(android_clean)"
   ]
  },
  {
   "cell_type": "code",
   "execution_count": 16,
   "metadata": {},
   "outputs": [],
   "source": [
    "# check if a string is english or not\n",
    "def check_english(string):\n",
    "    c = 0\n",
    "    for ch in string:\n",
    "        if ord(ch) > 127:\n",
    "            c += 1\n",
    "    if c > 3:\n",
    "        return False\n",
    "    return True"
   ]
  },
  {
   "cell_type": "code",
   "execution_count": 17,
   "metadata": {},
   "outputs": [
    {
     "data": {
      "text/plain": [
       "True"
      ]
     },
     "execution_count": 17,
     "metadata": {},
     "output_type": "execute_result"
    }
   ],
   "source": [
    "check_english('Instachat 😜')"
   ]
  },
  {
   "cell_type": "code",
   "execution_count": 18,
   "metadata": {},
   "outputs": [
    {
     "data": {
      "text/plain": [
       "True"
      ]
     },
     "execution_count": 18,
     "metadata": {},
     "output_type": "execute_result"
    }
   ],
   "source": [
    "check_english('Docs To Go™ Free Office Suite')"
   ]
  },
  {
   "cell_type": "code",
   "execution_count": 19,
   "metadata": {},
   "outputs": [
    {
     "data": {
      "text/plain": [
       "False"
      ]
     },
     "execution_count": 19,
     "metadata": {},
     "output_type": "execute_result"
    }
   ],
   "source": [
    "check_english('爱奇艺PPS -《欢乐颂2》电视剧热播')"
   ]
  },
  {
   "cell_type": "code",
   "execution_count": 20,
   "metadata": {},
   "outputs": [
    {
     "data": {
      "text/plain": [
       "True"
      ]
     },
     "execution_count": 20,
     "metadata": {},
     "output_type": "execute_result"
    }
   ],
   "source": [
    "check_english('Instagram')"
   ]
  },
  {
   "cell_type": "markdown",
   "metadata": {
    "collapsed": true
   },
   "source": [
    "### Data Analysis"
   ]
  },
  {
   "cell_type": "markdown",
   "metadata": {
    "collapsed": true
   },
   "source": [
    "##### 1.  Number of english native apps present in the dataset"
   ]
  },
  {
   "cell_type": "code",
   "execution_count": 21,
   "metadata": {},
   "outputs": [],
   "source": [
    "def get_lang_updated_dataset(dataset):\n",
    "    new_dataset = []\n",
    "    new_dataset.append(dataset[0])\n",
    "    for app in dataset[1:]:\n",
    "        if check_english(app[0]):\n",
    "            new_dataset.append(app)\n",
    "    return new_dataset"
   ]
  },
  {
   "cell_type": "code",
   "execution_count": 22,
   "metadata": {},
   "outputs": [],
   "source": [
    "updated_apps_data = get_lang_updated_dataset(apps_data)\n",
    "updated_plays_data = get_lang_updated_dataset(plays_data)"
   ]
  },
  {
   "cell_type": "code",
   "execution_count": 23,
   "metadata": {},
   "outputs": [
    {
     "data": {
      "text/plain": [
       "7198"
      ]
     },
     "execution_count": 23,
     "metadata": {},
     "output_type": "execute_result"
    }
   ],
   "source": [
    "len(updated_apps_data)"
   ]
  },
  {
   "cell_type": "code",
   "execution_count": 24,
   "metadata": {},
   "outputs": [
    {
     "data": {
      "text/plain": [
       "10796"
      ]
     },
     "execution_count": 24,
     "metadata": {},
     "output_type": "execute_result"
    }
   ],
   "source": [
    "len(updated_plays_data)"
   ]
  },
  {
   "cell_type": "markdown",
   "metadata": {
    "collapsed": true
   },
   "source": [
    "##### 2. Number of free apps on play store and app store"
   ]
  },
  {
   "cell_type": "code",
   "execution_count": 25,
   "metadata": {},
   "outputs": [],
   "source": [
    "def get_free_updated_dataset(dataset,idx):\n",
    "    new_dataset = []\n",
    "    new_dataset.append(dataset[0])\n",
    "    for app in dataset[1:]:\n",
    "        name = app[0]\n",
    "        try:\n",
    "            price = float(app[idx])\n",
    "            if price == 0.0:\n",
    "                new_dataset.append(app)\n",
    "        except:\n",
    "            pass\n",
    "    return new_dataset"
   ]
  },
  {
   "cell_type": "code",
   "execution_count": 26,
   "metadata": {},
   "outputs": [],
   "source": [
    "updated_apps_data = get_free_updated_dataset(apps_data,4)\n",
    "updated_plays_data = get_free_updated_dataset(plays_data,7)"
   ]
  },
  {
   "cell_type": "code",
   "execution_count": 27,
   "metadata": {},
   "outputs": [
    {
     "data": {
      "text/plain": [
       "4057"
      ]
     },
     "execution_count": 27,
     "metadata": {},
     "output_type": "execute_result"
    }
   ],
   "source": [
    "len(updated_apps_data)"
   ]
  },
  {
   "cell_type": "code",
   "execution_count": 28,
   "metadata": {},
   "outputs": [
    {
     "data": {
      "text/plain": [
       "10041"
      ]
     },
     "execution_count": 28,
     "metadata": {},
     "output_type": "execute_result"
    }
   ],
   "source": [
    "len(updated_plays_data)"
   ]
  },
  {
   "cell_type": "code",
   "execution_count": 29,
   "metadata": {},
   "outputs": [],
   "source": [
    "def freq_table(dataset,index):\n",
    "    table = {}\n",
    "    for app in dataset[1:]:\n",
    "        val = app[index]\n",
    "        if val in table:\n",
    "            table[val] += 1\n",
    "        else:\n",
    "            table[val] = 1\n",
    "    for k in table:\n",
    "        table[k] = (table[k]*100)/len(dataset[1:])\n",
    "    return table"
   ]
  },
  {
   "cell_type": "code",
   "execution_count": 30,
   "metadata": {},
   "outputs": [],
   "source": [
    "def display_table(dataset, index):\n",
    "    table = freq_table(dataset, index)\n",
    "    table_display = []\n",
    "    for key in table:\n",
    "        key_val_as_tuple = (table[key], key)\n",
    "        table_display.append(key_val_as_tuple)\n",
    "\n",
    "    table_sorted = sorted(table_display, reverse = True)\n",
    "    for entry in table_sorted:\n",
    "        print(entry[1], ':', entry[0])"
   ]
  },
  {
   "cell_type": "markdown",
   "metadata": {},
   "source": [
    "##### 3. Percentage of Apps on App Store based on Prime Genre"
   ]
  },
  {
   "cell_type": "code",
   "execution_count": 31,
   "metadata": {},
   "outputs": [
    {
     "name": "stdout",
     "output_type": "stream",
     "text": [
      "Games : 53.66124774211477\n",
      "Entertainment : 7.433652910935112\n",
      "Education : 6.294289287203001\n",
      "Photo & Video : 4.849242740030569\n",
      "Utilities : 3.445880227872725\n",
      "Health & Fitness : 2.501042100875365\n",
      "Productivity : 2.473252744198972\n",
      "Social Networking : 2.3204112824788106\n",
      "Lifestyle : 2.0008336807002918\n",
      "Music : 1.917465610671113\n",
      "Shopping : 1.6951507572599693\n",
      "Sports : 1.5839933305543976\n",
      "Book : 1.5562039738780047\n",
      "Finance : 1.445046547172433\n",
      "Travel : 1.1254689453939142\n",
      "News : 1.0421008753647354\n",
      "Weather : 1.0004168403501459\n",
      "Reference : 0.8892594136445742\n",
      "Food & Drink : 0.8753647353063777\n",
      "Business : 0.7919966652771988\n",
      "Navigation : 0.6391552035570377\n",
      "Medical : 0.31957760177851885\n",
      "Catalogs : 0.1389467833819647\n"
     ]
    }
   ],
   "source": [
    "display_table(apps_data,11)"
   ]
  },
  {
   "cell_type": "markdown",
   "metadata": {},
   "source": [
    "##### 4. Percentage of Apps on Play Store based on Category"
   ]
  },
  {
   "cell_type": "code",
   "execution_count": 32,
   "metadata": {},
   "outputs": [
    {
     "name": "stdout",
     "output_type": "stream",
     "text": [
      "FAMILY : 18.19188191881919\n",
      "GAME : 10.55350553505535\n",
      "TOOLS : 7.776752767527675\n",
      "MEDICAL : 4.271217712177122\n",
      "BUSINESS : 4.243542435424354\n",
      "PRODUCTIVITY : 3.911439114391144\n",
      "PERSONALIZATION : 3.6162361623616235\n",
      "COMMUNICATION : 3.5701107011070112\n",
      "SPORTS : 3.5424354243542435\n",
      "LIFESTYLE : 3.5239852398523985\n",
      "FINANCE : 3.376383763837638\n",
      "HEALTH_AND_FITNESS : 3.1457564575645756\n",
      "PHOTOGRAPHY : 3.0904059040590406\n",
      "SOCIAL : 2.7214022140221403\n",
      "NEWS_AND_MAGAZINES : 2.61070110701107\n",
      "SHOPPING : 2.3985239852398523\n",
      "TRAVEL_AND_LOCAL : 2.3800738007380073\n",
      "DATING : 2.158671586715867\n",
      "BOOKS_AND_REFERENCE : 2.1309963099630997\n",
      "VIDEO_PLAYERS : 1.6143911439114391\n",
      "EDUCATION : 1.4391143911439115\n",
      "ENTERTAINMENT : 1.3745387453874538\n",
      "MAPS_AND_NAVIGATION : 1.2638376383763839\n",
      "FOOD_AND_DRINK : 1.1715867158671587\n",
      "HOUSE_AND_HOME : 0.8118081180811808\n",
      "LIBRARIES_AND_DEMO : 0.7841328413284133\n",
      "AUTO_AND_VEHICLES : 0.7841328413284133\n",
      "WEATHER : 0.7564575645756457\n",
      "ART_AND_DESIGN : 0.5996309963099631\n",
      "EVENTS : 0.5904059040590406\n",
      "PARENTING : 0.5535055350553506\n",
      "COMICS : 0.5535055350553506\n",
      "BEAUTY : 0.488929889298893\n"
     ]
    }
   ],
   "source": [
    "display_table(plays_data,1)"
   ]
  },
  {
   "cell_type": "markdown",
   "metadata": {},
   "source": [
    "##### 5. Percentage of Apps on Play Store based on Genre"
   ]
  },
  {
   "cell_type": "code",
   "execution_count": 33,
   "metadata": {},
   "outputs": [
    {
     "name": "stdout",
     "output_type": "stream",
     "text": [
      "Tools : 7.767527675276753\n",
      "Entertainment : 5.747232472324724\n",
      "Education : 5.064575645756458\n",
      "Medical : 4.271217712177122\n",
      "Business : 4.243542435424354\n",
      "Productivity : 3.911439114391144\n",
      "Sports : 3.6715867158671585\n",
      "Personalization : 3.6162361623616235\n",
      "Communication : 3.5701107011070112\n",
      "Lifestyle : 3.514760147601476\n",
      "Finance : 3.376383763837638\n",
      "Action : 3.367158671586716\n",
      "Health & Fitness : 3.1457564575645756\n",
      "Photography : 3.0904059040590406\n",
      "Social : 2.7214022140221403\n",
      "News & Magazines : 2.61070110701107\n",
      "Shopping : 2.3985239852398523\n",
      "Travel & Local : 2.370848708487085\n",
      "Dating : 2.158671586715867\n",
      "Books & Reference : 2.1309963099630997\n",
      "Arcade : 2.029520295202952\n",
      "Simulation : 1.845018450184502\n",
      "Casual : 1.7804428044280443\n",
      "Video Players & Editors : 1.5959409594095941\n",
      "Puzzle : 1.2915129151291513\n",
      "Maps & Navigation : 1.2638376383763839\n",
      "Food & Drink : 1.1715867158671587\n",
      "Role Playing : 1.0055350553505535\n",
      "Strategy : 0.9870848708487084\n",
      "Racing : 0.9040590405904059\n",
      "House & Home : 0.8118081180811808\n",
      "Libraries & Demo : 0.7841328413284133\n",
      "Auto & Vehicles : 0.7841328413284133\n",
      "Weather : 0.7564575645756457\n",
      "Adventure : 0.6918819188191881\n",
      "Events : 0.5904059040590406\n",
      "Comics : 0.544280442804428\n",
      "Art & Design : 0.5350553505535055\n",
      "Beauty : 0.488929889298893\n",
      "Education;Education : 0.4612546125461255\n",
      "Card : 0.44280442804428044\n",
      "Parenting : 0.42435424354243545\n",
      "Board : 0.4059040590405904\n",
      "Educational;Education : 0.37822878228782286\n",
      "Casino : 0.35977859778597787\n",
      "Trivia : 0.3505535055350554\n",
      "Educational : 0.3413284132841328\n",
      "Casual;Pretend Play : 0.2859778597785978\n",
      "Word : 0.26752767527675275\n",
      "Entertainment;Music & Video : 0.24907749077490776\n",
      "Education;Pretend Play : 0.21217712177121772\n",
      "Music : 0.2029520295202952\n",
      "Casual;Action & Adventure : 0.1937269372693727\n",
      "Racing;Action & Adventure : 0.18450184501845018\n",
      "Puzzle;Brain Games : 0.1752767527675277\n",
      "Educational;Pretend Play : 0.1752767527675277\n",
      "Action;Action & Adventure : 0.15682656826568267\n",
      "Arcade;Action & Adventure : 0.14760147601476015\n",
      "Board;Brain Games : 0.13837638376383765\n",
      "Casual;Brain Games : 0.11992619926199262\n",
      "Adventure;Action & Adventure : 0.11992619926199262\n",
      "Simulation;Action & Adventure : 0.1014760147601476\n",
      "Entertainment;Brain Games : 0.07380073800738007\n",
      "Role Playing;Action & Adventure : 0.06457564575645756\n",
      "Parenting;Education : 0.06457564575645756\n",
      "Education;Creativity : 0.06457564575645756\n",
      "Casual;Creativity : 0.06457564575645756\n",
      "Art & Design;Creativity : 0.06457564575645756\n",
      "Parenting;Music & Video : 0.055350553505535055\n",
      "Educational;Brain Games : 0.055350553505535055\n",
      "Education;Action & Adventure : 0.055350553505535055\n",
      "Role Playing;Pretend Play : 0.046125461254612546\n",
      "Puzzle;Action & Adventure : 0.046125461254612546\n",
      "Educational;Creativity : 0.046125461254612546\n",
      "Education;Music & Video : 0.046125461254612546\n",
      "Education;Brain Games : 0.046125461254612546\n",
      "Sports;Action & Adventure : 0.03690036900369004\n",
      "Simulation;Pretend Play : 0.03690036900369004\n",
      "Educational;Action & Adventure : 0.03690036900369004\n",
      "Video Players & Editors;Music & Video : 0.027675276752767528\n",
      "Simulation;Education : 0.027675276752767528\n",
      "Music;Music & Video : 0.027675276752767528\n",
      "Entertainment;Creativity : 0.027675276752767528\n",
      "Entertainment;Action & Adventure : 0.027675276752767528\n",
      "Casual;Education : 0.027675276752767528\n",
      "Board;Action & Adventure : 0.027675276752767528\n",
      "Video Players & Editors;Creativity : 0.01845018450184502\n",
      "Strategy;Action & Adventure : 0.01845018450184502\n",
      "Puzzle;Creativity : 0.01845018450184502\n",
      "Entertainment;Pretend Play : 0.01845018450184502\n",
      "Casual;Music & Video : 0.01845018450184502\n",
      "Card;Action & Adventure : 0.01845018450184502\n",
      "Books & Reference;Education : 0.01845018450184502\n",
      "Art & Design;Pretend Play : 0.01845018450184502\n",
      "Art & Design;Action & Adventure : 0.01845018450184502\n",
      "Adventure;Education : 0.01845018450184502\n",
      "Trivia;Education : 0.00922509225092251\n",
      "Travel & Local;Action & Adventure : 0.00922509225092251\n",
      "Tools;Education : 0.00922509225092251\n",
      "Strategy;Education : 0.00922509225092251\n",
      "Strategy;Creativity : 0.00922509225092251\n",
      "Role Playing;Education : 0.00922509225092251\n",
      "Role Playing;Brain Games : 0.00922509225092251\n",
      "Racing;Pretend Play : 0.00922509225092251\n",
      "Puzzle;Education : 0.00922509225092251\n",
      "Parenting;Brain Games : 0.00922509225092251\n",
      "Music & Audio;Music & Video : 0.00922509225092251\n",
      "Lifestyle;Pretend Play : 0.00922509225092251\n",
      "Lifestyle;Education : 0.00922509225092251\n",
      "Health & Fitness;Education : 0.00922509225092251\n",
      "Health & Fitness;Action & Adventure : 0.00922509225092251\n",
      "Entertainment;Education : 0.00922509225092251\n",
      "Communication;Creativity : 0.00922509225092251\n",
      "Comics;Creativity : 0.00922509225092251\n",
      "Card;Brain Games : 0.00922509225092251\n",
      "Books & Reference;Creativity : 0.00922509225092251\n",
      "Board;Pretend Play : 0.00922509225092251\n",
      "Arcade;Pretend Play : 0.00922509225092251\n",
      "Adventure;Brain Games : 0.00922509225092251\n"
     ]
    }
   ],
   "source": [
    "display_table(plays_data,9)"
   ]
  },
  {
   "cell_type": "markdown",
   "metadata": {},
   "source": [
    "##### 6. Average User Rating for apps of each genre on App Store"
   ]
  },
  {
   "cell_type": "code",
   "execution_count": 34,
   "metadata": {},
   "outputs": [
    {
     "name": "stdout",
     "output_type": "stream",
     "text": [
      "Social Networking\n",
      "2.9850299401197606\n",
      "Photo & Video\n",
      "3.8008595988538683\n",
      "Games\n",
      "3.6850077679958573\n",
      "Music\n",
      "3.9782608695652173\n",
      "Reference\n",
      "3.453125\n",
      "Health & Fitness\n",
      "3.7\n",
      "Weather\n",
      "3.5972222222222223\n",
      "Utilities\n",
      "3.278225806451613\n",
      "Travel\n",
      "3.376543209876543\n",
      "Shopping\n",
      "3.540983606557377\n",
      "News\n",
      "2.98\n",
      "Navigation\n",
      "2.6847826086956523\n",
      "Lifestyle\n",
      "2.8055555555555554\n",
      "Entertainment\n",
      "3.2467289719626167\n",
      "Food & Drink\n",
      "3.1825396825396823\n",
      "Sports\n",
      "2.982456140350877\n",
      "Book\n",
      "2.4776785714285716\n",
      "Finance\n",
      "2.4326923076923075\n",
      "Education\n",
      "3.376379690949227\n",
      "Productivity\n",
      "4.00561797752809\n",
      "Business\n",
      "3.745614035087719\n",
      "Catalogs\n",
      "2.1\n",
      "Medical\n",
      "3.369565217391304\n"
     ]
    }
   ],
   "source": [
    "unique_genre = freq_table(apps_data,11).keys()\n",
    "for genre in unique_genre:\n",
    "    total = 0\n",
    "    len_genre = 0\n",
    "    for app in apps_data[1:]:\n",
    "        genre_app = app[11]\n",
    "        if genre_app == genre:\n",
    "            total += float(app[7])\n",
    "            len_genre += 1\n",
    "    average = total/len_genre\n",
    "    print(genre)\n",
    "    print(average)"
   ]
  },
  {
   "cell_type": "markdown",
   "metadata": {},
   "source": [
    "##### 7. Average User Rating for apps of each category on Play Store"
   ]
  },
  {
   "cell_type": "code",
   "execution_count": 35,
   "metadata": {
    "scrolled": true
   },
   "outputs": [
    {
     "name": "stdout",
     "output_type": "stream",
     "text": [
      "ART_AND_DESIGN\n",
      "4.358064516129031\n",
      "AUTO_AND_VEHICLES\n",
      "4.19041095890411\n",
      "BEAUTY\n",
      "4.278571428571428\n",
      "BOOKS_AND_REFERENCE\n",
      "4.346067415730338\n",
      "BUSINESS\n",
      "4.121452145214522\n",
      "COMICS\n",
      "4.155172413793104\n",
      "COMMUNICATION\n",
      "4.158536585365852\n",
      "DATING\n",
      "3.9707692307692306\n",
      "EDUCATION\n",
      "4.389032258064517\n",
      "ENTERTAINMENT\n",
      "4.126174496644294\n",
      "EVENTS\n",
      "4.435555555555557\n",
      "FINANCE\n",
      "4.131888544891644\n",
      "FOOD_AND_DRINK\n",
      "4.1669724770642205\n",
      "HEALTH_AND_FITNESS\n",
      "4.2771043771043775\n",
      "HOUSE_AND_HOME\n",
      "4.197368421052633\n",
      "LIBRARIES_AND_DEMO\n",
      "4.178461538461538\n",
      "LIFESTYLE\n",
      "4.094904458598724\n",
      "GAME\n",
      "4.2863263445761195\n",
      "FAMILY\n",
      "4.192272467086437\n",
      "MEDICAL\n",
      "4.18914285714286\n",
      "SOCIAL\n",
      "4.255598455598457\n",
      "SHOPPING\n",
      "4.259663865546221\n",
      "PHOTOGRAPHY\n",
      "4.192113564668767\n",
      "SPORTS\n",
      "4.223510971786835\n",
      "TRAVEL_AND_LOCAL\n",
      "4.10929203539823\n",
      "TOOLS\n",
      "4.047411444141691\n",
      "PERSONALIZATION\n",
      "4.335987261146501\n",
      "PRODUCTIVITY\n",
      "4.211396011396012\n",
      "PARENTING\n",
      "4.300000000000001\n",
      "WEATHER\n",
      "4.243999999999999\n",
      "VIDEO_PLAYERS\n",
      "4.063750000000001\n",
      "NEWS_AND_MAGAZINES\n",
      "4.1321888412017165\n",
      "MAPS_AND_NAVIGATION\n",
      "4.051612903225806\n"
     ]
    }
   ],
   "source": [
    "cat_freq_table = freq_table(plays_data,1)\n",
    "for category in cat_freq_table:\n",
    "    total = 0\n",
    "    len_category = 0\n",
    "    for app in plays_data[1:]:\n",
    "        category_app = app[1]\n",
    "        if category_app == category:\n",
    "            rating = app[2]\n",
    "            if rating != 'NaN':\n",
    "                rating = float(rating)\n",
    "                total += rating\n",
    "                len_category += 1\n",
    "    average = total/len_category\n",
    "    print(category)\n",
    "    print(average)"
   ]
  }
 ],
 "metadata": {
  "kernelspec": {
   "display_name": "Python 3",
   "language": "python",
   "name": "python3"
  },
  "language_info": {
   "codemirror_mode": {
    "name": "ipython",
    "version": 3
   },
   "file_extension": ".py",
   "mimetype": "text/x-python",
   "name": "python",
   "nbconvert_exporter": "python",
   "pygments_lexer": "ipython3",
   "version": "3.7.4"
  }
 },
 "nbformat": 4,
 "nbformat_minor": 2
}
